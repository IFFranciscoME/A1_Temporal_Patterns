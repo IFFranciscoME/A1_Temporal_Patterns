{
 "cells": [
  {
   "cell_type": "code",
   "execution_count": null,
   "metadata": {},
   "outputs": [],
   "source": [
    "from selenium import webdriver\n",
    "wd = webdriver.Chrome('chromedriver')\n",
    "import time\n",
    "import os"
   ]
  },
  {
   "cell_type": "code",
   "execution_count": null,
   "metadata": {},
   "outputs": [],
   "source": [
    "# abspath = os.path.abspath('Data_Downloader.ipynb')\n",
    "# dname = os.path.dirname(abspath)\n",
    "os.chdir('/home/franciscome/Downloads/')"
   ]
  },
  {
   "cell_type": "code",
   "execution_count": null,
   "metadata": {},
   "outputs": [],
   "source": [
    "for key in open('/media/franciscome/DATA/GitHub/A1_Temporal_Patterns/datos/src/keys.txt','r'):\n",
    "    wd.get(\"https://www.fxstreet.com/economic-calendar/event/{}\".format(key))    \n",
    "    url = \"\\\"https://calendar.fxstreet.com/event/{}/historycsv/?f=csv&v=2&culture=es-US\\\",\\\"_blank\\\"\".format(key.strip())    \n",
    "    print(url)\n",
    "    wd.execute_script(\"window.open({})\".format(url))\n",
    "    while True:\n",
    "        try:\n",
    "            os.rename(\"history.csv\",''.join( c for c in str(wd.title) if  c not in '[!#$%&/()=?]{}+' ))\n",
    "            print(wd.title)\n",
    "            break\n",
    "        except Exception as e:\n",
    "            # print(e)\n",
    "            print(\"retrying...\")\n",
    "            time.sleep(1)\n",
    "            continue        \n",
    "print(\"Done\")"
   ]
  }
 ],
 "metadata": {
  "kernelspec": {
   "display_name": "Python 3",
   "language": "python",
   "name": "python3"
  },
  "language_info": {
   "codemirror_mode": {
    "name": "ipython",
    "version": 3
   },
   "file_extension": ".py",
   "mimetype": "text/x-python",
   "name": "python",
   "nbconvert_exporter": "python",
   "pygments_lexer": "ipython3",
   "version": "3.6.9"
  }
 },
 "nbformat": 4,
 "nbformat_minor": 2
}
